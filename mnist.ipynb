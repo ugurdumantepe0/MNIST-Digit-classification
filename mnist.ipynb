{
 "cells": [
  {
   "cell_type": "markdown",
   "metadata": {},
   "source": [
    "# CS412 - Machine Learning\n",
    "## Homework 3\n"
   ]
  },
  {
   "cell_type": "markdown",
   "metadata": {},
   "source": [
    "### Data preperation"
   ]
  },
  {
   "cell_type": "code",
   "execution_count": 1,
   "metadata": {},
   "outputs": [
    {
     "name": "stderr",
     "output_type": "stream",
     "text": [
      "c:\\program files\\python37\\lib\\site-packages\\sklearn\\utils\\deprecation.py:77: DeprecationWarning: Function fetch_mldata is deprecated; fetch_mldata was deprecated in version 0.20 and will be removed in version 0.22\n",
      "  warnings.warn(msg, category=DeprecationWarning)\n",
      "c:\\program files\\python37\\lib\\site-packages\\sklearn\\utils\\deprecation.py:77: DeprecationWarning: Function mldata_filename is deprecated; mldata_filename was deprecated in version 0.20 and will be removed in version 0.22\n",
      "  warnings.warn(msg, category=DeprecationWarning)\n"
     ]
    }
   ],
   "source": [
    "import numpy as np\n",
    "#from random import randint\n",
    "from sklearn.tree import DecisionTreeClassifier\n",
    "#from sklearn.datasets import load_iris\n",
    "from sklearn.datasets import fetch_mldata\n",
    "import matplotlib.pyplot as plt\n",
    "from sklearn.utils import shuffle\n",
    "import random\n",
    "from sklearn.metrics import accuracy_score\n",
    "from sklearn import tree\n",
    "\n",
    "\n",
    "mnist = fetch_mldata('MNIST original')\n",
    "\n",
    "\n",
    "X = mnist.data\n",
    "\n",
    "Y = mnist.target\n",
    "X,Y = shuffle(X,Y)\n",
    "\n",
    "splt = int(len(Y)*.8)\n",
    "\n",
    "train_X = X[1:splt]\n",
    "train_Y = Y[1:splt]\n",
    "\n",
    "test_X = X[splt+1:]\n",
    "test_Y = Y[splt+1:]\n",
    "\n"
   ]
  },
  {
   "cell_type": "markdown",
   "metadata": {},
   "source": [
    "### Decision Tree"
   ]
  },
  {
   "cell_type": "code",
   "execution_count": 2,
   "metadata": {},
   "outputs": [
    {
     "name": "stdout",
     "output_type": "stream",
     "text": [
      " best parameters split: 0.001, level: 20, accuracy: 0.8560611472248018\n",
      " Number of generated nodes: 2141\n"
     ]
    }
   ],
   "source": [
    "from sklearn.tree import DecisionTreeClassifier\n",
    "\n",
    "\n",
    "splits = [0.001,0.005,0.01]\n",
    "levels = [10,20,30]\n",
    "\n",
    "max_acc = 0 #0.856918351310808\n",
    "max_DT = 0\n",
    "max_split = 0 # 0.001\n",
    "max_level = 0 # 20\n",
    "\n",
    "#print(\"started\")\n",
    "for split in splits:\n",
    "    for level in levels:\n",
    "        DT = DecisionTreeClassifier(min_samples_split=split,max_depth=level)\n",
    "        DT.fit(train_X,train_Y)\n",
    "        pred = DT.predict(test_X)\n",
    "        acc = accuracy_score(test_Y,pred)\n",
    "        if(acc>max_acc):\n",
    "            max_acc = acc\n",
    "            max_split = split\n",
    "            max_level = level\n",
    "            max_DT = DT\n",
    "        #print(pred)\n",
    "        #print(acc)\n",
    "        #print(split,level)\n",
    "        \n",
    "        \n",
    "print(\" best parameters split: {0}, level: {1}, accuracy: {2}\".format(max_split,max_level,max_acc))        \n",
    "print(\" Number of generated nodes: {0}\".format(max_DT.tree_.node_count))\n",
    "\n"
   ]
  },
  {
   "cell_type": "markdown",
   "metadata": {},
   "source": [
    "#### root pixel"
   ]
  },
  {
   "cell_type": "code",
   "execution_count": 3,
   "metadata": {},
   "outputs": [
    {
     "name": "stdout",
     "output_type": "stream",
     "text": [
      "root pixel : 409 \n",
      "row,column : 14,17\n"
     ]
    }
   ],
   "source": [
    "root_pixel = max_DT.tree_.__getstate__()[\"nodes\"][0][2]\n",
    "print(\"root pixel : {0} \\nrow,column : {1},{2}\".format(root_pixel,root_pixel//28,root_pixel%28))\n",
    "\n",
    "\n",
    "\n"
   ]
  },
  {
   "cell_type": "markdown",
   "metadata": {},
   "source": [
    "## Aggregate Features"
   ]
  },
  {
   "cell_type": "code",
   "execution_count": 4,
   "metadata": {},
   "outputs": [
    {
     "name": "stdout",
     "output_type": "stream",
     "text": [
      "Shape of original data (70000, 784)\n",
      "Shape of aggregated data (70000, 49)\n"
     ]
    },
    {
     "data": {
      "text/plain": [
       "<Figure size 432x288 with 0 Axes>"
      ]
     },
     "metadata": {},
     "output_type": "display_data"
    },
    {
     "data": {
      "image/png": "[encoded data removed]",
      "text/plain": [
       "<Figure size 288x288 with 1 Axes>"
      ]
     },
     "metadata": {
      "needs_background": "light"
     },
     "output_type": "display_data"
    },
    {
     "data": {
      "image/png": "[encoded data removed]",
      "text/plain": [
       "<Figure size 288x288 with 1 Axes>"
      ]
     },
     "metadata": {
      "needs_background": "light"
     },
     "output_type": "display_data"
    },
    {
     "name": "stdout",
     "output_type": "stream",
     "text": [
      "plotted number is 8.0\n"
     ]
    }
   ],
   "source": [
    "aggregate_X = np.zeros((X.shape[0],7*7))\n",
    "                      \n",
    "print(\"Shape of original data {0}\".format(X.shape))\n",
    "print(\"Shape of aggregated data {0}\".format(aggregate_X.shape))\n",
    "\n",
    "for sample in range(0,X.shape[0]):\n",
    "    for x in range(0,7):\n",
    "        for y in range(0,7):\n",
    "            dummySum = 0\n",
    "            #print(\"x: {0} y: {1}\\n\".format(x,y))\n",
    "            for i in range(0,4):\n",
    "                for j in range(0,4):\n",
    "                    #print((4*y+j)*28+ 4*x+i)\n",
    "                    #print(X[sample][(4*y+j)*28+ 4*x+i])\n",
    "                    dummySum+=X[sample][(4*y+j)*28+ 4*x+i]\n",
    "                #print(\"----\")\n",
    "            #print(\"dummySum {0}\".format(dummySum))\n",
    "            aggregate_X[sample][x+y*7] = dummySum/16\n",
    "                \n",
    "        \n",
    "\n",
    "plt.gray() \n",
    "plt.matshow(X[0].reshape((28,28)))\n",
    "plt.show()\n",
    "\n",
    "plt.matshow(aggregate_X[0].reshape((7,7)))\n",
    "plt.show()\n",
    "\n",
    "print(\"plotted number is {0}\".format(Y[0]))\n"
   ]
  },
  {
   "cell_type": "code",
   "execution_count": 5,
   "metadata": {},
   "outputs": [
    {
     "name": "stdout",
     "output_type": "stream",
     "text": [
      "started\n",
      "for aggregated data best parameters split: 0.001, level: 20, accuracy: 0.8524894635331095\n",
      "for aggregated data Number of generated nodes: 2165\n"
     ]
    }
   ],
   "source": [
    "train_aggregate_X = aggregate_X[1:splt]\n",
    "test_aggregate_X = aggregate_X[splt+1:]\n",
    "\n",
    "splits = [0.001,0.005,0.01]\n",
    "levels = [10,20,30]\n",
    "\n",
    "max_acc = 0 \n",
    "max_DT = 0\n",
    "max_split = 0 \n",
    "max_level = 0 \n",
    "\n",
    "#print(\"started\")\n",
    "for split in splits:\n",
    "    for level in levels:\n",
    "        DT = DecisionTreeClassifier(min_samples_split=split,max_depth=level)\n",
    "        DT.fit(train_aggregate_X,train_Y)\n",
    "        pred = DT.predict(test_aggregate_X)\n",
    "        acc = accuracy_score(test_Y,pred)\n",
    "        if(acc>max_acc):\n",
    "            max_acc = acc\n",
    "            max_split = split\n",
    "            max_level = level\n",
    "            max_DT = DT\n",
    "        #print(pred)\n",
    "        #print(acc)\n",
    "        #print(split,level)\n",
    "        \n",
    "        \n",
    "print(\"for aggregated data best parameters split: {0}, level: {1}, accuracy: {2}\".format(max_split,max_level,max_acc))        \n",
    "print(\"for aggregated data Number of generated nodes: {0}\".format(max_DT.tree_.node_count))\n",
    "\n"
   ]
  },
  {
   "cell_type": "markdown",
   "metadata": {},
   "source": [
    "# Preprocessing"
   ]
  },
  {
   "cell_type": "code",
   "execution_count": 6,
   "metadata": {},
   "outputs": [
    {
     "name": "stdout",
     "output_type": "stream",
     "text": [
      "before PCA, the shape is = (55999, 784)\n",
      "after PCA, the shape is = (55999, 43)\n"
     ]
    }
   ],
   "source": [
    "from sklearn.decomposition import PCA\n",
    "\n",
    "pca = PCA(.80)\n",
    "pca.fit(X)\n",
    "\n",
    "\n",
    "\n",
    "print(\"before PCA, the shape is = {0}\".format(train_X.shape))\n",
    "pp_train_X = pca.transform(train_X)\n",
    "pp_test_X = pca.transform(test_X)\n",
    "print(\"after PCA, the shape is = {0}\".format(pp_train_X.shape))"
   ]
  },
  {
   "cell_type": "markdown",
   "metadata": {},
   "source": [
    "# K-NN"
   ]
  },
  {
   "cell_type": "code",
   "execution_count": 7,
   "metadata": {},
   "outputs": [
    {
     "name": "stdout",
     "output_type": "stream",
     "text": [
      "accuracy: 0.9734266733338096 for neighbor = 2\n",
      "accuracy: 0.978284163154511 for neighbor = 3\n",
      "accuracy: 0.9770697906993356 for neighbor = 4\n",
      "accuracy: 0.9762125866133295 for neighbor = 5\n"
     ]
    }
   ],
   "source": [
    "from sklearn import neighbors\n",
    "\n",
    "\n",
    "for neighbor in [2,3,4,5]:\n",
    "    clf = neighbors.KNeighborsClassifier(neighbor)\n",
    "    clf.fit(pp_train_X, train_Y)\n",
    "    pred = clf.predict(pp_test_X)\n",
    "    acc = accuracy_score(test_Y,pred)\n",
    "    print(\"accuracy: {0} for neighbor = {1}\".format(acc,neighbor))"
   ]
  },
  {
   "cell_type": "markdown",
   "metadata": {},
   "source": [
    "# Gaussian Naive Bayesian"
   ]
  },
  {
   "cell_type": "code",
   "execution_count": 8,
   "metadata": {},
   "outputs": [
    {
     "name": "stdout",
     "output_type": "stream",
     "text": [
      "accuracy for Naive Bayesian : 0.5588256304021716\n"
     ]
    }
   ],
   "source": [
    "from sklearn.naive_bayes import GaussianNB\n",
    "pred = GaussianNB().fit(train_X, train_Y).predict(test_X)\n",
    "acc = accuracy_score(test_Y,pred)\n",
    "print(\"accuracy for Naive Bayesian : {0}\".format(acc))"
   ]
  },
  {
   "cell_type": "markdown",
   "metadata": {},
   "source": [
    "# mean and variance"
   ]
  },
  {
   "cell_type": "code",
   "execution_count": 9,
   "metadata": {},
   "outputs": [
    {
     "name": "stdout",
     "output_type": "stream",
     "text": [
      "Mean for pixel 14,14 of number 0 : 4.5846733304360425\n",
      "Variance for pixel 14,14 of number 0 : 828.8666171865319\n",
      "\n",
      "Mean for pixel 14,14 of number 3 : 159.26130794006443\n",
      "Variance for pixel 14,14 of number 3 : 11181.352807643434\n",
      "\n"
     ]
    }
   ],
   "source": [
    "threes = []\n",
    "zeros = []\n",
    "#print(Y)\n",
    "for i in range(0,len(Y)):\n",
    "    if(Y[i]==0):\n",
    "        #print(\"0 is found {0} {1}\".format(i,Y[i]))\n",
    "        zeros.append(X[i])\n",
    "    elif(Y[i]==3):\n",
    "        #print(\"3 is found {0} {1}\".format(i,Y[i]))\n",
    "        threes.append(X[i])\n",
    "\n",
    "        \n",
    "        \n",
    "numbers = [0,3]\n",
    "elements = [zeros,threes]\n",
    "for i in range(0,len(elements)):\n",
    "    elem = elements[i]\n",
    "    totalMean = 0\n",
    "    totalVar = 0\n",
    "    for e in elem:\n",
    "        totalMean+=e[14*28+14]\n",
    "\n",
    "    #print(len(elem))\n",
    "    totalMean=totalMean/len(elem)    \n",
    "    \n",
    "    print(\"Mean for pixel 14,14 of number {0} : {1}\".format(numbers[i],totalMean))  \n",
    "    \n",
    "    for e in elem:\n",
    "        totalVar+=(e[14*28+14]-totalMean)**2\n",
    "    \n",
    "    totalVar = totalVar/len(elem)\n",
    "    print(\"Variance for pixel 14,14 of number {0} : {1}\\n\".format(numbers[i],totalVar))  \n",
    "\n"
   ]
  },
  {
   "cell_type": "markdown",
   "metadata": {},
   "source": [
    "# Multivariate Gaussian"
   ]
  },
  {
   "cell_type": "code",
   "execution_count": 10,
   "metadata": {},
   "outputs": [
    {
     "name": "stderr",
     "output_type": "stream",
     "text": [
      "c:\\program files\\python37\\lib\\site-packages\\sklearn\\discriminant_analysis.py:388: UserWarning: Variables are collinear.\n",
      "  warnings.warn(\"Variables are collinear.\")\n"
     ]
    },
    {
     "name": "stdout",
     "output_type": "stream",
     "text": [
      "accuracy for LDA 0.8697049789270662\n"
     ]
    },
    {
     "name": "stderr",
     "output_type": "stream",
     "text": [
      "c:\\program files\\python37\\lib\\site-packages\\sklearn\\discriminant_analysis.py:686: UserWarning: Variables are collinear\n",
      "  warnings.warn(\"Variables are collinear\")\n"
     ]
    },
    {
     "name": "stdout",
     "output_type": "stream",
     "text": [
      "accuracy for QDA 0.5418244160297164\n"
     ]
    }
   ],
   "source": [
    "from sklearn.discriminant_analysis import LinearDiscriminantAnalysis\n",
    "from sklearn.discriminant_analysis import QuadraticDiscriminantAnalysis\n",
    "\n",
    "pred = LinearDiscriminantAnalysis(solver=\"svd\",store_covariance=True).fit(train_X, train_Y).predict(test_X)\n",
    "acc = accuracy_score(test_Y,pred)\n",
    "print(\"accuracy for LDA {0}\".format(acc))\n",
    "\n",
    "pred = QuadraticDiscriminantAnalysis(store_covariance=True).fit(train_X, train_Y).predict(test_X)\n",
    "acc = accuracy_score(test_Y,pred)\n",
    "print(\"accuracy for QDA {0}\".format(acc))"
   ]
  },
  {
   "cell_type": "code",
   "execution_count": null,
   "metadata": {},
   "outputs": [],
   "source": []
  }
 ],
 "metadata": {
  "kernelspec": {
   "display_name": "Python 3",
   "language": "python",
   "name": "python3"
  },
  "language_info": {
   "codemirror_mode": {
    "name": "ipython",
    "version": 3
   },
   "file_extension": ".py",
   "mimetype": "text/x-python",
   "name": "python",
   "nbconvert_exporter": "python",
   "pygments_lexer": "ipython3",
   "version": "3.7.0"
  }
 },
 "nbformat": 4,
 "nbformat_minor": 2
}
